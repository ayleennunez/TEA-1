{
 "cells": [
  {
   "cell_type": "code",
   "execution_count": 1,
   "id": "e74399ef",
   "metadata": {},
   "outputs": [],
   "source": [
    "import pandas as pd"
   ]
  },
  {
   "cell_type": "code",
   "execution_count": 2,
   "id": "0061d1b7",
   "metadata": {},
   "outputs": [],
   "source": [
    "from matplotlib import pyplot as plt"
   ]
  },
  {
   "cell_type": "code",
   "execution_count": 3,
   "id": "1fee3b2b",
   "metadata": {},
   "outputs": [],
   "source": [
    "# Subiremos la primer fuente de datos.(Proyectotea) a la memoria"
   ]
  },
  {
   "cell_type": "code",
   "execution_count": 10,
   "id": "08470ee2",
   "metadata": {},
   "outputs": [],
   "source": [
    "data = pd.read_csv(\"Proyectotea.csv\")"
   ]
  },
  {
   "cell_type": "code",
   "execution_count": 11,
   "id": "20f6963e",
   "metadata": {},
   "outputs": [
    {
     "data": {
      "text/html": [
       "<div>\n",
       "<style scoped>\n",
       "    .dataframe tbody tr th:only-of-type {\n",
       "        vertical-align: middle;\n",
       "    }\n",
       "\n",
       "    .dataframe tbody tr th {\n",
       "        vertical-align: top;\n",
       "    }\n",
       "\n",
       "    .dataframe thead th {\n",
       "        text-align: right;\n",
       "    }\n",
       "</style>\n",
       "<table border=\"1\" class=\"dataframe\">\n",
       "  <thead>\n",
       "    <tr style=\"text-align: right;\">\n",
       "      <th></th>\n",
       "      <th>Codigo ambito I6A1:A1:M4;Ambito;Codigo area (M49);Area;Codigo Elemento;Elemento;Codigo Producto (CPC);Producto;Codigo ano;Ano;Codigo Meses;Meses;Unidad;Valor;Simbolo;Descripcion del Simbolo</th>\n",
       "    </tr>\n",
       "  </thead>\n",
       "  <tbody>\n",
       "    <tr>\n",
       "      <th>0</th>\n",
       "      <td>PP;Precios al Productor;340;Honduras;5530;Prec...</td>\n",
       "    </tr>\n",
       "    <tr>\n",
       "      <th>1</th>\n",
       "      <td>PP;Precios al Productor;340;Honduras;5532;Prec...</td>\n",
       "    </tr>\n",
       "  </tbody>\n",
       "</table>\n",
       "</div>"
      ],
      "text/plain": [
       "  Codigo ambito I6A1:A1:M4;Ambito;Codigo area (M49);Area;Codigo Elemento;Elemento;Codigo Producto (CPC);Producto;Codigo ano;Ano;Codigo Meses;Meses;Unidad;Valor;Simbolo;Descripcion del Simbolo\n",
       "0  PP;Precios al Productor;340;Honduras;5530;Prec...                                                                                                                                           \n",
       "1  PP;Precios al Productor;340;Honduras;5532;Prec...                                                                                                                                           "
      ]
     },
     "execution_count": 11,
     "metadata": {},
     "output_type": "execute_result"
    }
   ],
   "source": [
    "data"
   ]
  },
  {
   "cell_type": "code",
   "execution_count": 12,
   "id": "0608bad5",
   "metadata": {},
   "outputs": [
    {
     "data": {
      "text/plain": [
       "pandas.core.frame.DataFrame"
      ]
     },
     "execution_count": 12,
     "metadata": {},
     "output_type": "execute_result"
    }
   ],
   "source": [
    "type(data)"
   ]
  },
  {
   "cell_type": "code",
   "execution_count": 13,
   "id": "44478618",
   "metadata": {},
   "outputs": [],
   "source": [
    "# Primeros datos en datafrome de pandas"
   ]
  },
  {
   "cell_type": "code",
   "execution_count": null,
   "id": "4888f7ba",
   "metadata": {},
   "outputs": [],
   "source": []
  }
 ],
 "metadata": {
  "kernelspec": {
   "display_name": "Python 3 (ipykernel)",
   "language": "python",
   "name": "python3"
  },
  "language_info": {
   "codemirror_mode": {
    "name": "ipython",
    "version": 3
   },
   "file_extension": ".py",
   "mimetype": "text/x-python",
   "name": "python",
   "nbconvert_exporter": "python",
   "pygments_lexer": "ipython3",
   "version": "3.9.13"
  }
 },
 "nbformat": 4,
 "nbformat_minor": 5
}
